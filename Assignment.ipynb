{
 "cells": [
  {
   "cell_type": "markdown",
   "id": "crude-motion",
   "metadata": {},
   "source": [
    "1. Today’s date and time in different formats (Eg. Friday 12/02/2021)"
   ]
  },
  {
   "cell_type": "code",
   "execution_count": 1,
   "id": "fresh-right",
   "metadata": {},
   "outputs": [],
   "source": [
    "from datetime import date , datetime"
   ]
  },
  {
   "cell_type": "code",
   "execution_count": 13,
   "id": "potential-carbon",
   "metadata": {},
   "outputs": [
    {
     "name": "stdout",
     "output_type": "stream",
     "text": [
      "2021-02-20\n",
      "Saturday 20-02-2021\n"
     ]
    }
   ],
   "source": [
    "today = date.today()\n",
    "print(today)\n",
    "today_date = today.strftime(\"%A %d-%m-%Y\")\n",
    "print(today_date)"
   ]
  },
  {
   "cell_type": "markdown",
   "id": "swedish-composition",
   "metadata": {},
   "source": [
    "2. String to date conversion (Eg. '2021-02-12 8:00PM‘ to 2021-02-12 20:00:00)"
   ]
  },
  {
   "cell_type": "code",
   "execution_count": 14,
   "id": "lyric-hartford",
   "metadata": {},
   "outputs": [
    {
     "name": "stdout",
     "output_type": "stream",
     "text": [
      "<class 'datetime.datetime'>\n",
      "2021-02-12 20:00:00\n"
     ]
    }
   ],
   "source": [
    "from datetime import *\n",
    "from dateutil import parser \n",
    "timestamp = '2021-02-12 8:00 PM'\n",
    "t= parser.parse(timestamp)\n",
    "#m2 = datetime.strptime(t,'%Y-%d-%m %H:%M')\n",
    "#m2 = datetime.strptime(timestamp, '%I:%M %p')\n",
    "print(type(t))\n",
    "print(t)"
   ]
  },
  {
   "cell_type": "markdown",
   "id": "rocky-bread",
   "metadata": {},
   "source": [
    "3. Difference in datetime calculation ( Eg. 2/01/2021 and today , Your Age) "
   ]
  },
  {
   "cell_type": "code",
   "execution_count": 8,
   "id": "basic-franchise",
   "metadata": {},
   "outputs": [
    {
     "name": "stdout",
     "output_type": "stream",
     "text": [
      "1997-07-18 this is my date of birth and 2021-02-20 03:59:22.907745 this is todays's date, and 23.608419876589632 this is my age.\n"
     ]
    }
   ],
   "source": [
    "date_of_birth = \"1997-07-18\"\n",
    "date_of_birth_obj = datetime.strptime(date_of_birth,'%Y-%m-%d')\n",
    "age=   datetime.now() - date_of_birth_obj \n",
    "print(\"{} this is my date of birth and {} this is todays's date, and {} this is my age.\".format(date_of_birth,str(datetime.now()),age.total_seconds()/3.154e+7))"
   ]
  },
  {
   "cell_type": "markdown",
   "id": "abroad-indian",
   "metadata": {},
   "source": [
    "4.  Datetime plus/minus a certain period of time (Eg. today + 1.7 years)"
   ]
  },
  {
   "cell_type": "code",
   "execution_count": 9,
   "id": "awful-block",
   "metadata": {},
   "outputs": [
    {
     "name": "stdout",
     "output_type": "stream",
     "text": [
      "todays date:  2021-02-20 04:00:47.662921\n",
      "date after 1.7 year: 2022-11-02 16:00:47.662921\n"
     ]
    }
   ],
   "source": [
    "from datetime import datetime, timedelta\n",
    "now = datetime.now()\n",
    "print(\"todays date: \" , str(now))\n",
    "#add 1.7 year to current date\n",
    "yr = timedelta(days=365)\n",
    "future_date = now+(yr*1.7)\n",
    "print('date after 1.7 year:', future_date)"
   ]
  },
  {
   "cell_type": "markdown",
   "id": "bigger-ethernet",
   "metadata": {},
   "source": [
    "5. Datetime comparison (Consider any two date and compare)"
   ]
  },
  {
   "cell_type": "code",
   "execution_count": 25,
   "id": "adolescent-property",
   "metadata": {},
   "outputs": [
    {
     "name": "stdout",
     "output_type": "stream",
     "text": [
      "731 days, 0:00:00\n"
     ]
    }
   ],
   "source": [
    "date1 = \"1995-07-18\"\n",
    "date1_obj = datetime.strptime(date1,'%Y-%m-%d')\n",
    "date2 = \"1997-07-18\"\n",
    "date2_obj = datetime.strptime(date2,'%Y-%m-%d')\n",
    "compare = date2_obj - date1_obj\n",
    "print(compare)"
   ]
  },
  {
   "cell_type": "markdown",
   "id": "hazardous-greensboro",
   "metadata": {},
   "source": [
    "6.  Time zones settings (Eg. Asia/Dhaka, 2021-02-12 20:01:10.953082+06:00 )"
   ]
  },
  {
   "cell_type": "code",
   "execution_count": 4,
   "id": "necessary-digest",
   "metadata": {},
   "outputs": [
    {
     "name": "stdout",
     "output_type": "stream",
     "text": [
      "Asia\\Dhaka,  2021-02-20 05:05:20.552244+06:00\n"
     ]
    }
   ],
   "source": [
    "from datetime import datetime\n",
    "import pytz\n",
    "#get the standard UTC time\n",
    "UTC = pytz.utc\n",
    "# it will get the time zone of specified location\n",
    "BST = pytz.timezone('Asia/Dhaka')\n",
    "\n",
    "print(\"Asia\\Dhaka, \",datetime.now(BST))"
   ]
  },
  {
   "cell_type": "markdown",
   "id": "postal-winner",
   "metadata": {},
   "source": [
    "7. Converting Unix timestamp to datetime format"
   ]
  },
  {
   "cell_type": "code",
   "execution_count": 6,
   "id": "juvenile-street",
   "metadata": {},
   "outputs": [
    {
     "name": "stdout",
     "output_type": "stream",
     "text": [
      "2010-09-10 12:51:25\n"
     ]
    }
   ],
   "source": [
    "import datetime\n",
    "timestamp = datetime.datetime.fromtimestamp(1284101485)\n",
    "print(timestamp.strftime('%Y-%m-%d %H:%M:%S'))"
   ]
  },
  {
   "cell_type": "code",
   "execution_count": null,
   "id": "functional-editor",
   "metadata": {},
   "outputs": [],
   "source": []
  },
  {
   "cell_type": "code",
   "execution_count": null,
   "id": "sticky-trout",
   "metadata": {},
   "outputs": [],
   "source": []
  }
 ],
 "metadata": {
  "kernelspec": {
   "display_name": "Python 3",
   "language": "python",
   "name": "python3"
  },
  "language_info": {
   "codemirror_mode": {
    "name": "ipython",
    "version": 3
   },
   "file_extension": ".py",
   "mimetype": "text/x-python",
   "name": "python",
   "nbconvert_exporter": "python",
   "pygments_lexer": "ipython3",
   "version": "3.7.9"
  }
 },
 "nbformat": 4,
 "nbformat_minor": 5
}
